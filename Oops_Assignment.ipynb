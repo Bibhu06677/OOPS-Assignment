{
  "nbformat": 4,
  "nbformat_minor": 0,
  "metadata": {
    "colab": {
      "provenance": []
    },
    "kernelspec": {
      "name": "python3",
      "display_name": "Python 3"
    },
    "language_info": {
      "name": "python"
    }
  },
  "cells": [
    {
      "cell_type": "code",
      "execution_count": null,
      "metadata": {
        "id": "IDij3-acrGyI"
      },
      "outputs": [],
      "source": []
    },
    {
      "cell_type": "markdown",
      "source": [
        "**1- What is Object-Oriented Programming (OOP)?**\n",
        "\n",
        "Object-Oriented Programming (OOP) in Python is a programming paradigm that uses objects and classes to structure code in a modular and reusable way. It allows you to model real-world entities with code, making programs easier to understand, maintain, and extend.\n",
        "\n",
        "Key Concepts of OOP in Python:\n",
        "Class: A blueprint for creating objects. It defines attributes (data) and methods (functions) that the objects created from the class will have.\n",
        "\n",
        "Object: An instance of a class. Each object can have unique values for the attributes defined in the class.\n",
        "\n",
        "Encapsulation: Bundling data and methods that operate on that data into one unit (class), and restricting direct access to some of the object's components.\n",
        "\n",
        "Inheritance: A mechanism where a new class can inherit attributes and methods from an existing class, promoting code reuse.\n",
        "\n",
        "Polymorphism: The ability to use a common interface for multiple forms (e.g., methods with the same name behaving differently in different classes).\n",
        "\n",
        "Abstraction: Hiding the internal implementation details and showing only the necessary features of an object."
      ],
      "metadata": {
        "id": "QUI3zkJdsTwo"
      }
    },
    {
      "cell_type": "markdown",
      "source": [
        "**2- What is a class in OOP?**\n",
        "\n",
        "In Object-Oriented Programming (OOP), a class is a blueprint or template for creating objects.\n",
        "\n",
        "It defines:\n",
        "\n",
        "Attributes (also called properties or fields): the data that the objects will hold.\n",
        "\n",
        "Methods (also called functions): the behaviors or actions that the objects can perform."
      ],
      "metadata": {
        "id": "fXzFB-G9s0_J"
      }
    },
    {
      "cell_type": "code",
      "source": [
        "class Car:\n",
        "    def __init__(self, brand, year):\n",
        "        self.brand = brand  # attribute\n",
        "        self.year = year    # attribute\n",
        "\n",
        "    def drive(self):        # method\n",
        "        print(f\"The {self.brand} is driving.\")\n",
        "\n",
        "# Creating objects (instances of the class)\n",
        "car1 = Car(\"Toyota\", 2020)\n",
        "car2 = Car(\"Honda\", 2022)\n",
        "\n",
        "car1.drive()\n",
        "car2.drive()\n"
      ],
      "metadata": {
        "colab": {
          "base_uri": "https://localhost:8080/"
        },
        "id": "rodmfUHVtF2W",
        "outputId": "7a4bc08c-432e-4f76-daef-38acd7e071fb"
      },
      "execution_count": 1,
      "outputs": [
        {
          "output_type": "stream",
          "name": "stdout",
          "text": [
            "The Toyota is driving.\n",
            "The Honda is driving.\n"
          ]
        }
      ]
    },
    {
      "cell_type": "markdown",
      "source": [
        "In this example:\n",
        "\n",
        "Car is the class.\n",
        "\n",
        "car1 and car2 are objects (instances of the class).\n",
        "\n",
        "__init__ is a constructor that initializes new objects.\n",
        "\n",
        "brand and year are attributes.\n",
        "\n",
        "drive() is a method."
      ],
      "metadata": {
        "id": "YVBItVDStRML"
      }
    },
    {
      "cell_type": "markdown",
      "source": [
        "**3-What is an object in OOP?**\n",
        "\n",
        "n Object-Oriented Programming (OOP), an object is an instance of a class.\n",
        "\n",
        "While a class defines the structure and behavior (attributes and methods), an object is a specific, real-world entity created using that blueprint. Each object can hold different data and can perform actions defined by its class.\n",
        "\n",
        "Key Features of an Object:\n",
        "\n",
        "Has state: stored in attributes (variables).\n",
        "\n",
        "Has behavior: defined by methods (functions).\n",
        "\n",
        "Exists in memory: it's a real entity in your running program.\n"
      ],
      "metadata": {
        "id": "EsGOtWlItSvz"
      }
    },
    {
      "cell_type": "code",
      "source": [
        "class Person:\n",
        "    def __init__(self, name, age):\n",
        "        self.name = name   # attribute\n",
        "        self.age = age     # attribute\n",
        "\n",
        "    def greet(self):       # method\n",
        "        print(f\"Hello, my name is {self.name} and I am {self.age} years old.\")\n",
        "\n",
        "# Creating objects\n",
        "person1 = Person(\"Bibhu\", 30)\n",
        "person2 = Person(\"Datta\", 25)\n",
        "\n",
        "# Calling method on objects\n",
        "person1.greet()\n",
        "person2.greet()\n"
      ],
      "metadata": {
        "colab": {
          "base_uri": "https://localhost:8080/"
        },
        "id": "9p3h8k5EtyP-",
        "outputId": "faae45a4-85a3-4495-89a1-fa50567e55d4"
      },
      "execution_count": 3,
      "outputs": [
        {
          "output_type": "stream",
          "name": "stdout",
          "text": [
            "Hello, my name is Bibhu and I am 30 years old.\n",
            "Hello, my name is Datta and I am 25 years old.\n"
          ]
        }
      ]
    },
    {
      "cell_type": "markdown",
      "source": [
        "Here:\n",
        "\n",
        "Person is the class.\n",
        "\n",
        "person1 and person2 are objects created from the class.\n",
        "\n",
        "Each object has its own name and age."
      ],
      "metadata": {
        "id": "t5XCi3Uqt6uf"
      }
    },
    {
      "cell_type": "markdown",
      "source": [
        "**4- What is the difference between abstraction and encapsulation?**\n",
        "\n",
        "The concepts of abstraction and encapsulation are fundamental in Object-Oriented Programming (OOP), but they serve different purposes. Here's a clear comparison:\n",
        "\n",
        "Encapsulation – \"Hiding the internal state\"\n",
        "\n",
        "Definition: The process of wrapping data (attributes) and code (methods) together into a single unit (class), and restricting direct access to some of the object's components.\n",
        "\n",
        "Purpose: To protect the internal state of an object and prevent unintended interference.\n",
        "\n",
        "How: By using access modifiers like private (_ or __ in Python), and providing getter/setter methods.\n"
      ],
      "metadata": {
        "id": "I66rtXPAuDav"
      }
    },
    {
      "cell_type": "code",
      "source": [
        "class BankAccount:\n",
        "    def __init__(self):\n",
        "        self.__balance = 0  # private attribute\n",
        "\n",
        "    def deposit(self, amount):\n",
        "        if amount > 0:\n",
        "            self.__balance += amount\n",
        "\n",
        "    def get_balance(self):\n",
        "        return self.__balance\n",
        "\n",
        "account = BankAccount()\n",
        "account.deposit(100)\n",
        "print(account.get_balance())\n",
        "# print(account.__balance)  # Error: AttributeError\n"
      ],
      "metadata": {
        "colab": {
          "base_uri": "https://localhost:8080/"
        },
        "id": "32XQueaFueft",
        "outputId": "e57319b2-517b-4d4f-d6b3-b650545f037c"
      },
      "execution_count": 4,
      "outputs": [
        {
          "output_type": "stream",
          "name": "stdout",
          "text": [
            "100\n"
          ]
        }
      ]
    },
    {
      "cell_type": "markdown",
      "source": [
        "Abstraction – \"Hiding the complexity\"\n",
        "\n",
        "Definition: The process of hiding complex implementation details and showing only the essential features to the user.\n",
        "\n",
        "Purpose: To simplify interface usage and reduce complexity for the programmer.\n",
        "\n",
        "How: Often done using abstract classes or interfaces, where only method declarations are provided."
      ],
      "metadata": {
        "id": "gTpAy_OiumUi"
      }
    },
    {
      "cell_type": "code",
      "source": [
        "from abc import ABC, abstractmethod\n",
        "\n",
        "class Vehicle(ABC):\n",
        "    @abstractmethod\n",
        "    def start_engine(self):\n",
        "        pass\n",
        "\n",
        "class Car(Vehicle):\n",
        "    def start_engine(self):\n",
        "        print(\"Car engine started.\")\n",
        "\n",
        "my_car = Car()\n",
        "my_car.start_engine()\n"
      ],
      "metadata": {
        "colab": {
          "base_uri": "https://localhost:8080/"
        },
        "id": "BiN0-HuZuoLc",
        "outputId": "b2088a7d-f32d-4ddf-bf77-982217c2ba8a"
      },
      "execution_count": 5,
      "outputs": [
        {
          "output_type": "stream",
          "name": "stdout",
          "text": [
            "Car engine started.\n"
          ]
        }
      ]
    },
    {
      "cell_type": "markdown",
      "source": [
        "Here:\n",
        "\n",
        "The user of Car doesn’t need to know how start_engine() works—just that it starts the engine.\n",
        "\n",
        "Vehicle is an abstract class that provides a general interface."
      ],
      "metadata": {
        "id": "d80Ns1jiuv_z"
      }
    },
    {
      "cell_type": "markdown",
      "source": [
        "| Feature        | Abstraction                          | Encapsulation                     |\n",
        "| -------------- | ------------------------------------ | --------------------------------- |\n",
        "| Hides          | Implementation complexity            | Internal object state             |\n",
        "| Focus          | On *what* an object does             | On *how* object data is protected |\n",
        "| Used For       | Reducing complexity, simplifying use | Protecting data, limiting access  |\n",
        "| Implemented By | Abstract classes, interfaces         | Access modifiers, getters/setters |\n"
      ],
      "metadata": {
        "id": "-PFSk1-Uu0Rd"
      }
    },
    {
      "cell_type": "markdown",
      "source": [
        "**5- What are dunder methods in Python?**\n",
        "\n",
        "Dunder methods in Python (short for “double underscore” methods, also called magic methods) are special predefined methods that you can define in your classes to customize the behavior of Python's built-in functions and operators.\n",
        "\n",
        "They’re named with double underscores before and after the method name — like __init__, __str__, __len__, etc.\n",
        "\n"
      ],
      "metadata": {
        "id": "q-3LkmHeu1wi"
      }
    },
    {
      "cell_type": "markdown",
      "source": [
        "| Dunder Method | Purpose                               | Example Use       |\n",
        "| ------------- | ------------------------------------- | ----------------- |\n",
        "| `__init__`    | Constructor (initializes new object)  | `obj = MyClass()` |\n",
        "| `__str__`     | String representation (for `print()`) | `print(obj)`      |\n",
        "| `__repr__`    | Official string representation        | `repr(obj)`       |\n",
        "| `__len__`     | Length of the object                  | `len(obj)`        |\n",
        "| `__getitem__` | Indexing support                      | `obj[0]`          |\n",
        "| `__setitem__` | Item assignment                       | `obj[0] = value`  |\n",
        "| `__eq__`      | Equality comparison (`==`)            | `obj1 == obj2`    |\n",
        "| `__lt__`      | Less-than comparison (`<`)            | `obj1 < obj2`     |\n",
        "| `__add__`     | Addition operator (`+`)               | `obj1 + obj2`     |\n",
        "| `__call__`    | Makes object callable like a function | `obj()`           |\n"
      ],
      "metadata": {
        "id": "6mqBmkvavFYk"
      }
    },
    {
      "cell_type": "code",
      "source": [],
      "metadata": {
        "id": "SE_rZuoWvJzk"
      },
      "execution_count": null,
      "outputs": []
    },
    {
      "cell_type": "markdown",
      "source": [
        "Why Use Dunder Methods?\n",
        "\n",
        "They let your custom objects behave like built-in types — enabling things like comparison, printing, indexing, iteration, and arithmetic operations."
      ],
      "metadata": {
        "id": "DA__oUlQvQaj"
      }
    },
    {
      "cell_type": "markdown",
      "source": [
        "**6- Explain the concept of inheritance in OOP?**\n",
        "\n",
        "Inheritance is a fundamental concept in OOP that allows one class (called the child or subclass) to inherit properties and behaviors (attributes and methods) from another class (called the parent or superclass).\n",
        "\n",
        "Why Use Inheritance?\n",
        "\n",
        "Code reuse: Avoid repeating common logic across classes.\n",
        "\n",
        "Extensibility: Easily extend or modify behavior.\n",
        "\n",
        "Hierarchy modeling: Naturally represent relationships like “is-a”.\n",
        "\n",
        "Types of Inheritance\n",
        "\n",
        "Single Inheritance: One subclass inherits from one superclass.\n",
        "\n",
        "Multiple Inheritance: One subclass inherits from multiple superclasses.\n",
        "\n",
        "Multilevel Inheritance: A class inherits from a subclass of another class.\n",
        "\n",
        "Hierarchical Inheritance: Multiple subclasses inherit from a single superclass.\n",
        "\n"
      ],
      "metadata": {
        "id": "wgXq2lW8vVGU"
      }
    },
    {
      "cell_type": "markdown",
      "source": [
        "**7- What is polymorphism in OOP?**\n",
        "\n",
        "Polymorphism in Object-Oriented Programming (OOP) means \"many forms.\" It allows objects of different classes to be treated as objects of a common superclass, typically through shared methods — even if those methods behave differently for each object.\n",
        "\n",
        "Why Use Polymorphism?\n",
        "\n",
        "Increases flexibility and reusability of code\n",
        "\n",
        "Allows for cleaner, more generic code\n",
        "\n",
        "Enables method overriding in subclasses\n",
        "\n",
        "Two Main Types of Polymorphism:\n",
        "1. Compile-time Polymorphism (a.k.a. method overloading)\n",
        "Not natively supported in Python (though you can simulate it with default arguments or variable-length arguments).\n",
        "\n",
        "2. Run-time Polymorphism (a.k.a. method overriding)\n",
        "Supported in Python — occurs when a subclass provides a specific implementation of a method already defined in its superclass."
      ],
      "metadata": {
        "id": "eUlx6VRBvwAf"
      }
    },
    {
      "cell_type": "markdown",
      "source": [
        "**8- How is encapsulation achieved in Python?**\n",
        "\n",
        "Encapsulation in Python is achieved by restricting direct access to the internal data (attributes) of a class and exposing only what’s necessary using methods (often getters/setters).\n",
        "\n",
        "Python doesn’t enforce access control as strictly as some other languages (like Java or C++), but it uses naming conventions and name mangling to support encapsulation.\n",
        "\n",
        "1. Using Underscores for Access Control\n",
        "\n",
        "| Syntax           | Meaning                                          |\n",
        "| ---------------- | ------------------------------------------------ |\n",
        "| `public_var`     | Public – accessible from anywhere                |\n",
        "| `_protected_var` | Protected – hint: internal use only (convention) |\n",
        "| `__private_var`  | Private – name mangled to prevent direct access  |\n",
        "\n",
        "\n",
        "2. Using Getters and Setters\n",
        "You control access by providing methods to read or modify attributes, instead of allowing direct access.\n",
        "\n",
        "3. Name Mangling in Python\n",
        "Private variables (__var) are automatically name-mangled to prevent accidental access:\n",
        "\n"
      ],
      "metadata": {
        "id": "QyAMy_GnwIcT"
      }
    },
    {
      "cell_type": "markdown",
      "source": [
        "**9- What is a constructor in Python?**\n",
        "\n",
        "A constructor in Python is a special method used to initialize objects when a class is instantiated.\n",
        "\n",
        "In Python, the constructor method is named __init__(). It gets called automatically when a new object is created from a class.\n",
        "\n",
        "Key Points:\n",
        "\n",
        "Defined as def __init__(self, ...)\n",
        "\n",
        "self refers to the current instance\n",
        "\n",
        "You can pass arguments to set up object state"
      ],
      "metadata": {
        "id": "low14OLAwkeY"
      }
    },
    {
      "cell_type": "markdown",
      "source": [
        "**10- What are class and static methods in Python?**\n",
        "\n",
        "In Python, besides regular instance methods, classes can also have:\n",
        "\n",
        "Class methods — bound to the class, not the object\n",
        "\n",
        "Static methods — not bound to class or instance; behave like plain functions grouped in a class.\n",
        "\n",
        "Class Method\n",
        "\n",
        "Defined with @classmethod decorator\n",
        "\n",
        "First parameter is cls, referring to the class itself, not the instance\n",
        "\n",
        "Can access/modify class-level data\n",
        "\n",
        "Static Method\n",
        "\n",
        "Defined with @staticmethod decorator\n",
        "\n",
        "Doesn’t take self or cls\n",
        "\n",
        "Acts like a regular function but is part of the class for logical grouping\n",
        "\n",
        "Cannot access or modify class/instance data"
      ],
      "metadata": {
        "id": "cvAV3ch_w5ot"
      }
    },
    {
      "cell_type": "markdown",
      "source": [
        "**11- What is method overloading in Python?**\n",
        "\n",
        "Method overloading refers to the ability to define multiple methods with the same name but different parameters. It allows you to create multiple versions of a method that handle different numbers or types of arguments.\n",
        "\n",
        "However, Python does not support traditional method overloading (as seen in languages like Java or C++), meaning you cannot define the same method name multiple times in a class with different parameter types or counts.\n",
        "\n",
        "But, you can simulate method overloading in Python using default arguments or variable-length arguments (*args and **kwargs).\n",
        "\n",
        "1. Using Default Arguments\n",
        "We can provide default values for arguments, so the method works with a variety of inputs:\n"
      ],
      "metadata": {
        "id": "qpN2xf5VxTxa"
      }
    },
    {
      "cell_type": "code",
      "source": [
        "class Calculator:\n",
        "    def add(self, a, b=0, c=0):  # Default values for b and c\n",
        "        return a + b + c\n",
        "\n",
        "calc = Calculator()\n",
        "print(calc.add(5))\n",
        "print(calc.add(5, 10))\n",
        "print(calc.add(5, 10, 20))\n"
      ],
      "metadata": {
        "colab": {
          "base_uri": "https://localhost:8080/"
        },
        "id": "Dm14TRGGxrtV",
        "outputId": "a2663595-9c6f-4d25-cd45-2ce8bbdec21f"
      },
      "execution_count": 6,
      "outputs": [
        {
          "output_type": "stream",
          "name": "stdout",
          "text": [
            "5\n",
            "15\n",
            "35\n"
          ]
        }
      ]
    },
    {
      "cell_type": "markdown",
      "source": [
        "2. Using *args (Variable-length positional arguments)\n",
        "\n",
        "We can use *args to accept an arbitrary number of positional arguments and handle them within the method."
      ],
      "metadata": {
        "id": "1HXVZZpjx3Rw"
      }
    },
    {
      "cell_type": "code",
      "source": [
        "class Printer:\n",
        "    def print_values(self, *args):\n",
        "        for arg in args:\n",
        "            print(arg)\n",
        "\n",
        "printer = Printer()\n",
        "printer.print_values(1, 2, 3)\n",
        "printer.print_values(\"Hello\", \"World\")\n"
      ],
      "metadata": {
        "colab": {
          "base_uri": "https://localhost:8080/"
        },
        "id": "YsjAHsQ2x5Hu",
        "outputId": "a4974c12-4bac-4d5e-b00b-1fd53a2ca013"
      },
      "execution_count": 7,
      "outputs": [
        {
          "output_type": "stream",
          "name": "stdout",
          "text": [
            "1\n",
            "2\n",
            "3\n",
            "Hello\n",
            "World\n"
          ]
        }
      ]
    },
    {
      "cell_type": "markdown",
      "source": [
        "3. Using **kwargs (Variable-length keyword arguments)\n",
        "\n",
        "We can also use **kwargs to handle named arguments passed as a dictionary."
      ],
      "metadata": {
        "id": "G-c3PEExyBEt"
      }
    },
    {
      "cell_type": "code",
      "source": [
        "class Employee:\n",
        "    def __init__(self, name, **kwargs):\n",
        "        self.name = name\n",
        "        for key, value in kwargs.items():\n",
        "            setattr(self, key, value)\n",
        "\n",
        "emp = Employee(\"John\", age=30, department=\"HR\")\n",
        "print(emp.name)\n",
        "print(emp.age)\n",
        "print(emp.department)\n"
      ],
      "metadata": {
        "colab": {
          "base_uri": "https://localhost:8080/"
        },
        "id": "2pe0ig_HyD9y",
        "outputId": "ff0e9c52-087f-4a28-c7ed-84d853a5a785"
      },
      "execution_count": 8,
      "outputs": [
        {
          "output_type": "stream",
          "name": "stdout",
          "text": [
            "John\n",
            "30\n",
            "HR\n"
          ]
        }
      ]
    },
    {
      "cell_type": "markdown",
      "source": [
        "**12- What is method overriding in OOP?**\n",
        "\n",
        "Method overriding is a concept in Object-Oriented Programming (OOP) where a subclass redefines or modifies a method that is already defined in its superclass. The new version of the method in the subclass replaces the inherited version, and it can provide a more specific or different behavior.\n",
        "\n",
        "Key Points of Method Overriding:\n",
        "\n",
        "Occurs when a subclass redefines a method that exists in its superclass.\n",
        "\n",
        "The method signature (name and parameters) must be the same in both the subclass and superclass.\n",
        "\n",
        "It allows a subclass to customize or extend the behavior of a method inherited from a superclass."
      ],
      "metadata": {
        "id": "sx0oBpZkyS7s"
      }
    },
    {
      "cell_type": "markdown",
      "source": [
        "**13- What is a property decorator in Python?**\n",
        "\n",
        "The @property decorator in Python is used to define getter methods for a class attribute in a way that accesses the attribute like a regular property rather than a method. It allows you to access a method’s return value as if it were an attribute.\n",
        "\n",
        "This is useful when you want to:\n",
        "\n",
        "Control access to an attribute (e.g., validation before setting or getting it).\n",
        "\n",
        "Add computed values that are accessed like attributes.\n",
        "\n",
        "Make the code cleaner and more Pythonic by avoiding direct calls to getter methods.\n",
        "\n",
        "Key Features of @property:\n",
        "\n",
        "Getter: You can define a method that can be accessed as an attribute.\n",
        "\n",
        "Setter: You can define a method to update the attribute with validation.\n",
        "\n",
        "Deleter: You can define a method that deletes an attribute.\n",
        "\n",
        "Why Use @property?\n",
        "\n",
        "Encapsulation: It allows you to control how attributes are accessed and modified, adding logic when necessary.\n",
        "\n",
        "Cleaner code: You can access methods as attributes, making your code look more natural and intuitive.\n"
      ],
      "metadata": {
        "id": "45qnxDR6yp6c"
      }
    },
    {
      "cell_type": "markdown",
      "source": [
        "**14- Why is polymorphism important in OOP?**\n",
        "\n",
        "Polymorphism is one of the core concepts of Object-Oriented Programming (OOP), and it is crucial because it promotes flexibility, reusability, and extensibility in your code. The ability to treat objects of different classes as objects of a common superclass allows you to write more generalized and maintainable code.\n",
        "\n",
        "Key Benefits of Polymorphism in OOP:\n",
        "1. Code Reusability\n",
        "Polymorphism allows you to reuse code. You can write generic code that can work with any object of any class, as long as it adheres to the expected interface (i.e., methods that are polymorphic). This reduces redundancy and makes the code cleaner.\n",
        "\n",
        "2. Flexibility and Extensibility\n",
        "With polymorphism, you can add new classes without changing the existing code. If you add a new subclass that inherits from a superclass, the existing code that uses polymorphism will work without modification.\n",
        "\n",
        "3. Code Simplification and Maintainability\n",
        "Since polymorphism allows you to use the same method name for different class behaviors, your code becomes more simplified and abstracted. This helps in reducing complexity, making the code easier to maintain and update.\n",
        "\n",
        "4. Supports Dynamic Method Dispatch (Late Binding)\n",
        "Polymorphism allows late binding, meaning the method to be called is decided at runtime, not compile time. This enables dynamic behavior based on the object type, which adds flexibility to your application.\n",
        "\n",
        "For example, if you pass different objects into the same function, polymorphism ensures the appropriate method is called for each object based on its actual class:"
      ],
      "metadata": {
        "id": "GrNpD5wXzEy1"
      }
    },
    {
      "cell_type": "markdown",
      "source": [
        "**15- What is an abstract class in Python?**\n",
        "\n",
        "An abstract class in Python is a class that cannot be instantiated directly. It serves as a blueprint for other classes and is meant to be inherited by subclasses. An abstract class may contain one or more abstract methods (methods that are declared but not implemented) that must be implemented by the subclasses.\n",
        "\n",
        "Abstract classes are used to define a common interface or structure for a group of related classes, ensuring that they adhere to a specific design.\n",
        "\n",
        "Key Features of Abstract Classes:\n",
        "\n",
        "Cannot Be Instantiated: You cannot create an instance of an abstract class directly.\n",
        "\n",
        "Abstract Methods: An abstract class can contain methods that are declared but not implemented. These methods must be implemented by any non-abstract subclass.\n",
        "\n",
        "Common Interface: Abstract classes are used to define a common interface for related classes, ensuring they implement certain methods."
      ],
      "metadata": {
        "id": "wWor435BzgWi"
      }
    },
    {
      "cell_type": "markdown",
      "source": [
        "**16- What are the advantages of OOP?**\n",
        "\n",
        "Python, being an object-oriented language, benefits greatly from the principles of OOP. While OOP concepts are universal, Python’s specific features and syntax bring additional advantages to using OOP. Below are some key advantages of OOP in Python:\n",
        "\n",
        "1. Simplicity and Readability\n",
        "\n",
        "Python’s syntax is clean and intuitive, making it easy to implement and understand OOP concepts like classes, inheritance, polymorphism, and encapsulation. The combination of Python's simplicity and OOP principles results in code that is:\n",
        "\n",
        "Easier to read and maintain.\n",
        "\n",
        "Less error-prone due to its emphasis on modularity and reusability.\n",
        "\n",
        "2. Modularity and Code Reusability\n",
        "\n",
        "With Python's OOP features, you can create modular code by defining classes that encapsulate both data and behavior. Classes can be reused across multiple parts of your application, reducing duplication of code and making maintenance easier. Additionally, you can use inheritance to extend existing code without modification.\n",
        "\n",
        "3. Ease of Maintenance and Updates\n",
        "\n",
        "Since OOP structures Python code in classes and objects, it’s easier to maintain and update. You can modify a specific class without affecting other parts of the program, as long as you adhere to the interface (methods) defined by that class.\n",
        "\n",
        "For example, if you need to update the behavior of a method in one class, you can do so without touching other classes that don’t use that method.\n",
        "\n",
        "4. Extensibility through Inheritance\n",
        "\n",
        "Python makes it easy to extend existing code using inheritance. Inheritance allows one class (subclass) to inherit properties and methods from another class (superclass). This promotes code reusability and extensibility, enabling you to add new features with minimal changes to existing code.\n",
        "\n",
        "5. Polymorphism\n",
        "\n",
        "Polymorphism in Python allows the same method or function to behave differently depending on the object calling it. This makes Python code more flexible and dynamic, allowing one function or method to handle different types of objects, even if they are different subclasses.\n",
        "\n",
        "This flexibility is particularly powerful in Python because it uses dynamic typing, which allows objects to change types at runtime.\n",
        "\n",
        "6. Data Encapsulation and Security\n",
        "\n",
        "Encapsulation is one of the core principles of OOP in Python. It means that an object’s internal state (attributes) is hidden from the outside world, and access to it is only possible through public methods (getters and setters). This promotes data security and ensures that the internal implementation is not accidentally or maliciously changed.\n",
        "\n",
        "Python supports encapsulation using private and protected members (indicated by leading underscores), although it is not strictly enforced. This gives developers flexibility while encouraging best practices for data protection.\n",
        "\n",
        "7. Support for Abstraction\n",
        "\n",
        "In Python, abstract classes allow you to define common behaviors for multiple subclasses without providing a full implementation. This enables you to define a common interface for your classes, which can then be implemented in a variety of ways in subclasses. Abstraction allows you to hide complexity and only expose relevant details.\n",
        "\n",
        "8. Integration with Other Libraries\n",
        "\n",
        "Python’s object-oriented nature makes it easy to integrate with many external libraries and frameworks. Whether it’s a web framework like Django or Flask or a GUI library like Tkinter, Python’s OOP design allows seamless integration and smooth interaction with external systems."
      ],
      "metadata": {
        "id": "Mydc2PFW0Ay7"
      }
    },
    {
      "cell_type": "markdown",
      "source": [
        "**17-What is the difference between a class variable and an instance variable?**\n",
        "\n",
        "In Python, class variables and instance variables are both used to store data associated with classes and objects, but they differ in how they are shared and accessed.\n",
        "\n",
        "1. Class Variable\n",
        "A class variable is a variable that is shared across all instances of a class. It is defined within the class but outside of any instance methods (such as __init__). Class variables are typically used for properties or values that should be the same for all instances of the class.\n",
        "\n",
        "Shared by all instances: All objects of the class will share the same value of the class variable.\n",
        "\n",
        "Accessed using the class name: You can access class variables either through the class itself or via an instance.\n",
        "\n",
        "2. Instance Variable\n",
        "An instance variable is a variable that is specific to each instance (object) of the class. It is usually defined inside the __init__ method, which is the constructor for the class. Instance variables are unique to each object and can have different values for each instance.\n",
        "\n",
        "Unique to each instance: Each object created from the class has its own copy of the instance variable.\n",
        "\n",
        "Accessed using the instance: Instance variables can be accessed and modified using the object.\n",
        "\n",
        "Key Differences Between Class and Instance Variables:\n",
        "\n",
        "| Feature                 | **Class Variable**                                                            | **Instance Variable**                                               |\n",
        "| ----------------------- | ----------------------------------------------------------------------------- | ------------------------------------------------------------------- |\n",
        "| **Scope**               | Shared by all instances of the class.                                         | Unique to each instance of the class.                               |\n",
        "| **Definition Location** | Defined inside the class, but outside any method.                             | Defined inside the `__init__()` method (or other instance methods). |\n",
        "| **Access**              | Accessed using the class name or an instance.                                 | Accessed using an instance of the class.                            |\n",
        "| **Memory**              | Only one copy exists, shared by all objects.                                  | A new copy exists for each instance of the class.                   |\n",
        "| **Typical Use Case**    | Used for properties or values common to all objects (e.g., default settings). | Used for object-specific attributes (e.g., individual name, age).   |\n"
      ],
      "metadata": {
        "id": "Cfin1VUA06mT"
      }
    },
    {
      "cell_type": "markdown",
      "source": [
        "18- What is multiple inheritance in Python?\n",
        "\n",
        "Multiple inheritance is a feature in Python that allows a class to inherit attributes and methods from more than one parent class. This means that a child class can inherit behaviors and properties from multiple base classes, enabling greater flexibility in object-oriented design.\n",
        "\n",
        "Python is one of the few programming languages that supports multiple inheritance natively, making it a powerful tool for designing complex systems.\n",
        "\n",
        "In multiple inheritance, a child class inherits from two or more parent classes. The child class can then access the methods and attributes from all of its parent classes."
      ],
      "metadata": {
        "id": "xsQy0yib1XBZ"
      }
    },
    {
      "cell_type": "markdown",
      "source": [
        "**19- Explain the purpose of ‘’__str__’ and ‘__repr__’ ‘ methods in Python.**\n",
        "\n",
        "In Python, __str__ and __repr__ are special (dunder) methods used to define how objects are represented as strings. These methods are crucial for controlling how objects are printed or represented when converted to a string, either for casual display (__str__) or for debugging (__repr__).\n",
        "\n",
        "1. __str__ Method\n",
        "Purpose: The __str__ method is used to define a user-friendly string representation of an object, intended to be readable and meaningful when displayed to the end user (or when printed). It is used by the print() function and str() function.\n",
        "\n",
        "When it's used: The __str__ method is called when you use print() or str() on an object.\n",
        "\n",
        "Expected Output: It should return a string that is easy to understand for humans.\n",
        "\n",
        "2. __repr__ Method\n",
        "Purpose: The __repr__ method is intended to define a formal string representation of an object that is more suitable for debugging and development. The goal is for the string returned by __repr__ to be unambiguous and ideally, when passed to eval(), would create an equivalent object (or something close to it).\n",
        "\n",
        "When it's used: The __repr__ method is called when you use repr() on an object or when the object is evaluated in the interactive interpreter (e.g., if you simply type the object name in a Python shell).\n",
        "\n",
        "Expected Output: It should return a string that provides a detailed and unambiguous description of the object, ideally one that could be used to recreate the object."
      ],
      "metadata": {
        "id": "qINQeIwQ2LR5"
      }
    },
    {
      "cell_type": "markdown",
      "source": [
        "**20- What is the significance of the ‘super()’ function in Python?**\n",
        "\n",
        "The super() function in Python is used to call methods from a parent class (also called a superclass) from within a child class (also called a subclass). This function is particularly useful in the context of inheritance and method overriding. It allows the child class to invoke methods from its parent class and can be used to ensure that the parent class's methods are properly executed, even when overridden in the child class.\n",
        "\n",
        "Key Purposes of super()\n",
        "\n",
        "Calling Parent Class Methods:\n",
        "super() allows you to call methods from a parent class (or superclass) without explicitly naming it. This is helpful in cases where you might want to call a method from the parent class but don't want to hard-code the parent class name.\n",
        "\n",
        "Avoiding Direct Parent Class Reference:\n",
        "Using super() avoids hardcoding the parent class name. This makes the code more maintainable and flexible, especially in multiple inheritance situations.\n",
        "\n",
        "Enabling Method Resolution Order (MRO):\n",
        "In cases of multiple inheritance, super() ensures that the method resolution order (MRO) is respected, and the correct parent class method is called, following the MRO chain.\n",
        "\n",
        "Extending Parent Class Methods:\n",
        "You can call the parent class's method within the child class and extend or modify its behavior, rather than completely overriding it."
      ],
      "metadata": {
        "id": "ooeHgWDh2g3U"
      }
    },
    {
      "cell_type": "markdown",
      "source": [
        "**21- What is the significance of the __del__ method in Python?**\n",
        "\n",
        "The __del__ method in Python is a special method (also called a dunder method), often referred to as the destructor. It is automatically invoked when an object is about to be destroyed or garbage collected. Its primary purpose is to perform any necessary cleanup activities or resource deallocation before an object is removed from memory.\n",
        "\n",
        "In essence, the __del__ method is the opposite of the constructor (__init__), and it allows you to specify cleanup behavior for when an object is no longer needed."
      ],
      "metadata": {
        "id": "Q-0B7xrm260x"
      }
    },
    {
      "cell_type": "markdown",
      "source": [
        "**22-What is the difference between @staticmethod and @classmethod in Python?**\n",
        "\n",
        "n Python, @staticmethod and @classmethod are both decorators that allow you to define methods that are not bound to an instance of the class (like regular methods are). However, they differ in how they are used and what they can access. Let’s break down the key differences:\n",
        "\n",
        "1. @staticmethod\n",
        "Purpose: A static method does not have access to the instance (self) or the class (cls). It behaves like a regular function, but it belongs to the class’s namespace.\n",
        "\n",
        "Usage: Static methods are used when you need a method that is logically associated with the class but doesn’t need to interact with its instance or class attributes. They are commonly used for utility functions that don’t modify the state of the class or instance.\n",
        "\n",
        "Syntax:\n"
      ],
      "metadata": {
        "id": "EbtzArfI3Lsr"
      }
    },
    {
      "cell_type": "code",
      "source": [
        "class MyClass:\n",
        "    @staticmethod\n",
        "    def static_method(arg1, arg2):\n",
        "        # No access to instance or class\n",
        "        print(arg1, arg2)\n"
      ],
      "metadata": {
        "id": "LT9K-JDF3dDn"
      },
      "execution_count": null,
      "outputs": []
    },
    {
      "cell_type": "markdown",
      "source": [
        "2. @classmethod\n",
        "\n",
        "Purpose: A class method takes the class itself as the first argument (cls), instead of the instance. It can access class-level attributes and modify the class state. Class methods are often used for factory methods or alternative constructors that need to create instances of the class or modify class-level properties.\n",
        "\n",
        "Usage: Class methods are used when you need to operate on class-level data or want to modify the class itself, but don’t need to interact with instance-specific data (like instance variables).\n",
        "\n",
        "Syntax:"
      ],
      "metadata": {
        "id": "CDrp7CI-3iE5"
      }
    },
    {
      "cell_type": "code",
      "source": [
        "class MyClass:\n",
        "    @classmethod\n",
        "    def class_method(cls, arg1, arg2):\n",
        "        # Access to class-level data (cls)\n",
        "        print(arg1, arg2)\n"
      ],
      "metadata": {
        "id": "XeSD4q9_3juw"
      },
      "execution_count": 9,
      "outputs": []
    },
    {
      "cell_type": "markdown",
      "source": [
        "Key Differences:\n",
        "\n",
        "| Feature            | **`@staticmethod`**                                                                      | **`@classmethod`**                                                                                       |\n",
        "| ------------------ | ---------------------------------------------------------------------------------------- | -------------------------------------------------------------------------------------------------------- |\n",
        "| **First Argument** | No `self` or `cls`. It behaves like a regular function.                                  | Takes `cls` as the first argument (the class itself).                                                    |\n",
        "| **Access**         | Cannot access class or instance data.                                                    | Can access and modify class-level data (but not instance-level data).                                    |\n",
        "| **Usage**          | For utility functions that don't depend on class or instance data.                       | To work with the class itself, typically for creating alternative constructors or modifying class state. |\n",
        "| **Call**           | Can be called via the class or an instance.                                              | Can be called via the class or an instance, but often used via the class.                                |\n",
        "| **Example**        | Used for independent functions related to the class but not needing access to its state. | Used when a method needs to interact with the class itself (e.g., modifying class attributes).           |\n"
      ],
      "metadata": {
        "id": "PnH_968V3mgA"
      }
    },
    {
      "cell_type": "markdown",
      "source": [
        "**23-How does polymorphism work in Python with inheritance?**\n",
        "\n",
        "Polymorphism is one of the core concepts of Object-Oriented Programming (OOP), and it allows objects of different classes to be treated as objects of a common base class. The main idea is that the same method or operator can behave differently depending on the context (i.e., the object or class type).\n",
        "\n",
        "In Python, polymorphism works mainly through method overriding and duck typing (though it's primarily demonstrated through inheritance in OOP). Let's focus on how polymorphism works with inheritance.\n",
        "\n",
        "Polymorphism Through Inheritance\n",
        "\n",
        "When we create a class hierarchy (i.e., a parent class and child classes), polymorphism allows us to define methods in the child classes that have the same name as methods in the parent class, but with different behaviors. This is called method overriding.\n",
        "\n",
        "How Polymorphism Works in Python with Inheritance:\n",
        "\n",
        "Base Class Method: A method is defined in the base class.\n",
        "\n",
        "Overriding in Child Classes: A method with the same name is defined in the child classes, which changes or extends the behavior of the method from the base class.\n",
        "\n",
        "Dynamic Method Resolution: When the method is called on an object, Python dynamically resolves which method to call based on the object's actual class (not the class where the method was called)."
      ],
      "metadata": {
        "id": "1Lf1LA8v3xPS"
      }
    },
    {
      "cell_type": "markdown",
      "source": [
        "**24- What is method chaining in Python OOP?**\n",
        "\n",
        "Method chaining is a programming technique where multiple methods are called on the same object in a single line of code, one after the other. This is made possible by having each method return the object itself (i.e., self in Python). This allows you to \"chain\" method calls together, which can make code more concise and readable.\n",
        "\n",
        "How Method Chaining Works\n",
        "In method chaining:\n",
        "\n",
        "Each method modifies or operates on the object and then returns the object itself (i.e., self).\n",
        "\n",
        "Since each method returns the object, you can call another method on the same object right after the first one, all in a single statement.\n",
        "\n",
        "Example of Method Chaining in Python\n",
        "\n",
        "Let's take an example where we have a class that manipulates an internal list and allows method chaining."
      ],
      "metadata": {
        "id": "xbhaHmuN4Lt4"
      }
    },
    {
      "cell_type": "code",
      "source": [
        "class MyList:\n",
        "    def __init__(self):\n",
        "        self.items = []\n",
        "\n",
        "    def add(self, item):\n",
        "        self.items.append(item)\n",
        "        return self  # Returning the object itself to allow method chaining\n",
        "\n",
        "    def remove(self, item):\n",
        "        if item in self.items:\n",
        "            self.items.remove(item)\n",
        "        return self  # Returning the object itself to allow method chaining\n",
        "\n",
        "    def display(self):\n",
        "        print(self.items)\n",
        "        return self  # Returning the object itself to allow method chaining\n",
        "\n",
        "# Create an object of MyList\n",
        "my_list = MyList()\n",
        "\n",
        "# Chain methods together\n",
        "my_list.add(1).add(2).remove(1).display()\n"
      ],
      "metadata": {
        "colab": {
          "base_uri": "https://localhost:8080/"
        },
        "id": "ADLQb_Sn4iwE",
        "outputId": "01049f6a-233b-488e-ea4a-805e1d175152"
      },
      "execution_count": 11,
      "outputs": [
        {
          "output_type": "stream",
          "name": "stdout",
          "text": [
            "[2]\n"
          ]
        },
        {
          "output_type": "execute_result",
          "data": {
            "text/plain": [
              "<__main__.MyList at 0x7ba26c4f1d10>"
            ]
          },
          "metadata": {},
          "execution_count": 11
        }
      ]
    },
    {
      "cell_type": "markdown",
      "source": [
        "Explanation:\n",
        "\n",
        "The add(), remove(), and display() methods all return self (the instance of the object), allowing us to chain the method calls together.\n",
        "\n",
        "Each method modifies the internal state of the object (in this case, the items list) and returns the object itself.\n",
        "\n",
        "As a result, you can call multiple methods in a single line of code, as shown in the statement my_list.add(1).add(2).remove(1).display()."
      ],
      "metadata": {
        "id": "-3vAZaVD4vFI"
      }
    },
    {
      "cell_type": "markdown",
      "source": [
        "**25- What is the purpose of the __call__ method in Python?**\n",
        "\n",
        "The __call__ method in Python is a special or dunder method (short for \"double underscore\") that allows an instance of a class to be called like a function. When this method is implemented in a class, it enables objects of that class to be invoked as if they were functions.\n",
        "\n",
        "How It Works:\n",
        "When you define the __call__ method in a class, you can \"call\" an instance of that class as if it were a function.\n",
        "\n",
        "This can be useful in cases where you want your object to behave like a callable function or when you want to customize the behavior of the object when invoked.\n",
        "\n",
        "Syntax:\n"
      ],
      "metadata": {
        "id": "iG6qWmTk4yAZ"
      }
    },
    {
      "cell_type": "code",
      "source": [
        "class MyClass:\n",
        "    def __call__(self, *args, **kwargs):\n",
        "        # Code to execute when the object is called as a function\n",
        "        print(f\"Called with arguments: {args} and keyword arguments: {kwargs}\")\n"
      ],
      "metadata": {
        "id": "HVT4tdT44-U7"
      },
      "execution_count": null,
      "outputs": []
    },
    {
      "cell_type": "markdown",
      "source": [
        "Use Cases for __call__:\n",
        "\n",
        "Function-Like Objects:\n",
        "\n",
        "When you want an object to behave like a function, but you need to store some state or additional logic inside the class. This can be useful for things like function wrappers or decorators.\n",
        "\n",
        "Custom Callable Objects:\n",
        "\n",
        "If you need to customize the behavior of a callable, for example, to allow dynamic dispatch or caching results of function calls.\n",
        "\n",
        "Implementing Closures or Partially Applied Functions:\n",
        "\n",
        "You can use the __call__ method to implement functions that retain their state between calls, somewhat like a closure.\n",
        "\n",
        "Callable Factories:\n",
        "\n",
        "The __call__ method can be used to create factories where the object creates a new function or callable when invoked."
      ],
      "metadata": {
        "id": "Dl9ZkPGo5GIC"
      }
    },
    {
      "cell_type": "markdown",
      "source": [
        "***Practical Questions***"
      ],
      "metadata": {
        "id": "r71QW5UZ5Jie"
      }
    },
    {
      "cell_type": "markdown",
      "source": [
        "1. Create a parent class Animal with a method speak() that prints a generic message. Create a child class Dog\n",
        "that overrides the speak() method to print \"Bark!\"."
      ],
      "metadata": {
        "id": "HJeqlP6X5Qhi"
      }
    },
    {
      "cell_type": "code",
      "source": [
        "# Parent class\n",
        "class Animal:\n",
        "    def speak(self):\n",
        "        print(\"The animal makes a sound.\")\n",
        "\n",
        "# Child class\n",
        "class Dog(Animal):\n",
        "    def speak(self):\n",
        "        print(\"Bark!\")\n",
        "\n",
        "# Example usage\n",
        "generic_animal = Animal()\n",
        "generic_animal.speak()\n",
        "\n",
        "dog = Dog()\n",
        "dog.speak()\n"
      ],
      "metadata": {
        "colab": {
          "base_uri": "https://localhost:8080/"
        },
        "id": "DWpFrzGt5Xj1",
        "outputId": "7b1b93c7-109d-44e0-b0ae-dbf7e2b925b6"
      },
      "execution_count": 12,
      "outputs": [
        {
          "output_type": "stream",
          "name": "stdout",
          "text": [
            "The animal makes a sound.\n",
            "Bark!\n"
          ]
        }
      ]
    },
    {
      "cell_type": "markdown",
      "source": [
        "2. Write a program to create an abstract class Shape with a method area(). Derive classes Circle and Rectangle\n",
        "from it and implement the area() method in both."
      ],
      "metadata": {
        "id": "JADbE9zA5nH5"
      }
    },
    {
      "cell_type": "code",
      "source": [
        "from abc import ABC, abstractmethod\n",
        "import math\n",
        "\n",
        "# Abstract base class\n",
        "class Shape(ABC):\n",
        "    @abstractmethod\n",
        "    def area(self):\n",
        "        pass\n",
        "\n",
        "# Circle subclass\n",
        "class Circle(Shape):\n",
        "    def __init__(self, radius):\n",
        "        self.radius = radius\n",
        "\n",
        "    def area(self):\n",
        "        return math.pi * self.radius ** 2\n",
        "\n",
        "# Rectangle subclass\n",
        "class Rectangle(Shape):\n",
        "    def __init__(self, width, height):\n",
        "        self.width = width\n",
        "        self.height = height\n",
        "\n",
        "    def area(self):\n",
        "        return self.width * self.height\n",
        "\n",
        "# Example usage\n",
        "circle = Circle(5)\n",
        "rectangle = Rectangle(4, 6)\n",
        "\n",
        "print(f\"Area of circle: {circle.area():.2f}\")\n",
        "print(f\"Area of rectangle: {rectangle.area()}\")\n"
      ],
      "metadata": {
        "colab": {
          "base_uri": "https://localhost:8080/"
        },
        "id": "6LyLnvOb5oR9",
        "outputId": "33c3f685-31e2-4221-e166-7add0ae0d651"
      },
      "execution_count": 13,
      "outputs": [
        {
          "output_type": "stream",
          "name": "stdout",
          "text": [
            "Area of circle: 78.54\n",
            "Area of rectangle: 24\n"
          ]
        }
      ]
    },
    {
      "cell_type": "markdown",
      "source": [
        "3. Implement a multi-level inheritance scenario where a class Vehicle has an attribute type. Derive a class Car\n",
        "and further derive a class ElectricCar that adds a battery attribute."
      ],
      "metadata": {
        "id": "Mi81Zrnw50ew"
      }
    },
    {
      "cell_type": "code",
      "source": [
        "# Base class\n",
        "class Vehicle:\n",
        "    def __init__(self, vehicle_type):\n",
        "        self.vehicle_type = vehicle_type\n",
        "\n",
        "    def show_type(self):\n",
        "        print(f\"Vehicle Type: {self.vehicle_type}\")\n",
        "\n",
        "# Intermediate class\n",
        "class Car(Vehicle):\n",
        "    def __init__(self, vehicle_type, brand):\n",
        "        super().__init__(vehicle_type)\n",
        "        self.brand = brand\n",
        "\n",
        "    def show_brand(self):\n",
        "        print(f\"Car Brand: {self.brand}\")\n",
        "\n",
        "# Derived class\n",
        "class ElectricCar(Car):\n",
        "    def __init__(self, vehicle_type, brand, battery_capacity):\n",
        "        super().__init__(vehicle_type, brand)\n",
        "        self.battery_capacity = battery_capacity\n",
        "\n",
        "    def show_battery(self):\n",
        "        print(f\"Battery Capacity: {self.battery_capacity} kWh\")\n",
        "\n",
        "# Example usage\n",
        "tesla = ElectricCar(\"Electric\", \"Tesla\", 75)\n",
        "\n",
        "tesla.show_type()\n",
        "tesla.show_brand()\n",
        "tesla.show_battery()\n"
      ],
      "metadata": {
        "colab": {
          "base_uri": "https://localhost:8080/"
        },
        "id": "7vuJLHZG55s5",
        "outputId": "e8dd19a9-c614-44ba-9448-e973b373001c"
      },
      "execution_count": 15,
      "outputs": [
        {
          "output_type": "stream",
          "name": "stdout",
          "text": [
            "Vehicle Type: Electric\n",
            "Car Brand: Tesla\n",
            "Battery Capacity: 75 kWh\n"
          ]
        }
      ]
    },
    {
      "cell_type": "markdown",
      "source": [
        "4. Demonstrate polymorphism by creating a base class Bird with a method fly(). Create two derived classes\n",
        "Sparrow and Penguin that override the fly() method."
      ],
      "metadata": {
        "id": "A9iqofmC6SNg"
      }
    },
    {
      "cell_type": "code",
      "source": [
        "# Base class\n",
        "class Bird:\n",
        "    def fly(self):\n",
        "        print(\"Some birds can fly.\")\n",
        "\n",
        "# Derived class 1\n",
        "class Sparrow(Bird):\n",
        "    def fly(self):\n",
        "        print(\"Sparrow flies high in the sky.\")\n",
        "\n",
        "# Derived class 2\n",
        "class Penguin(Bird):\n",
        "    def fly(self):\n",
        "        print(\"Penguins cannot fly but they swim well.\")\n",
        "\n",
        "# Example usage\n",
        "def bird_flight(bird):\n",
        "    bird.fly()\n",
        "\n",
        "# Creating objects\n",
        "sparrow = Sparrow()\n",
        "penguin = Penguin()\n",
        "\n",
        "# Demonstrating polymorphism\n",
        "bird_flight(sparrow)\n",
        "bird_flight(penguin)"
      ],
      "metadata": {
        "colab": {
          "base_uri": "https://localhost:8080/"
        },
        "id": "eOY4NRhe6Wu6",
        "outputId": "91e65391-f794-484c-e8d4-41d2f859f87f"
      },
      "execution_count": 16,
      "outputs": [
        {
          "output_type": "stream",
          "name": "stdout",
          "text": [
            "Sparrow flies high in the sky.\n",
            "Penguins cannot fly but they swim well.\n"
          ]
        }
      ]
    },
    {
      "cell_type": "markdown",
      "source": [
        "5. Write a program to demonstrate encapsulation by creating a class BankAccount with private attributes\n",
        "balance and methods to deposit, withdraw, and check balance."
      ],
      "metadata": {
        "id": "fxfPtvCr6j4i"
      }
    },
    {
      "cell_type": "code",
      "source": [
        "class BankAccount:\n",
        "    def __init__(self, initial_balance=0):\n",
        "        self.__balance = initial_balance  # Private attribute\n",
        "\n",
        "    def deposit(self, amount):\n",
        "        if amount > 0:\n",
        "            self.__balance += amount\n",
        "            print(f\"Deposited: ${amount}\")\n",
        "        else:\n",
        "            print(\"Invalid deposit amount.\")\n",
        "\n",
        "    def withdraw(self, amount):\n",
        "        if 0 < amount <= self.__balance:\n",
        "            self.__balance -= amount\n",
        "            print(f\"Withdrawn: ${amount}\")\n",
        "        else:\n",
        "            print(\"Insufficient funds or invalid amount.\")\n",
        "\n",
        "    def get_balance(self):\n",
        "        print(f\"Current Balance: ${self.__balance}\")\n",
        "        return self.__balance\n",
        "\n",
        "# Example usage\n",
        "account = BankAccount(100)  # Start with $100\n",
        "\n",
        "account.get_balance()\n",
        "account.deposit(50)\n",
        "account.withdraw(30)\n",
        "account.get_balance()\n",
        "\n",
        "# Trying to access the private balance directly (not recommended)\n",
        "# print(account.__balance)  # This will raise an AttributeError\n"
      ],
      "metadata": {
        "colab": {
          "base_uri": "https://localhost:8080/"
        },
        "id": "99j9iPht6wPV",
        "outputId": "62187c05-2ee0-4749-fe89-e36ae2a15275"
      },
      "execution_count": 17,
      "outputs": [
        {
          "output_type": "stream",
          "name": "stdout",
          "text": [
            "Current Balance: $100\n",
            "Deposited: $50\n",
            "Withdrawn: $30\n",
            "Current Balance: $120\n"
          ]
        },
        {
          "output_type": "execute_result",
          "data": {
            "text/plain": [
              "120"
            ]
          },
          "metadata": {},
          "execution_count": 17
        }
      ]
    },
    {
      "cell_type": "markdown",
      "source": [
        "6. Demonstrate runtime polymorphism using a method play() in a base class Instrument. Derive classes Guitar\n",
        "and Piano that implement their own version of play()."
      ],
      "metadata": {
        "id": "ugm08g0v64gN"
      }
    },
    {
      "cell_type": "code",
      "source": [
        "# Base class\n",
        "class Instrument:\n",
        "    def play(self):\n",
        "        print(\"Instrument is playing a sound.\")\n",
        "\n",
        "# Derived class 1\n",
        "class Guitar(Instrument):\n",
        "    def play(self):\n",
        "        print(\"Strumming the guitar.\")\n",
        "\n",
        "# Derived class 2\n",
        "class Piano(Instrument):\n",
        "    def play(self):\n",
        "        print(\"Playing the piano keys.\")\n",
        "\n",
        "# Function that demonstrates runtime polymorphism\n",
        "def perform(instrument):\n",
        "    instrument.play()  # This will call the correct overridden method at runtime\n",
        "\n",
        "# Example usage\n",
        "guitar = Guitar()\n",
        "piano = Piano()\n",
        "\n",
        "perform(guitar)\n",
        "perform(piano)\n"
      ],
      "metadata": {
        "colab": {
          "base_uri": "https://localhost:8080/"
        },
        "id": "JYDuglE27At8",
        "outputId": "4ef4ae6f-c2bc-4c69-bf8e-62a9ffcbb52b"
      },
      "execution_count": 18,
      "outputs": [
        {
          "output_type": "stream",
          "name": "stdout",
          "text": [
            "Strumming the guitar.\n",
            "Playing the piano keys.\n"
          ]
        }
      ]
    },
    {
      "cell_type": "markdown",
      "source": [
        "7. Create a class MathOperations with a class method add_numbers() to add two numbers and a static\n",
        "method subtract_numbers() to subtract two numbers."
      ],
      "metadata": {
        "id": "-Qy0vYQH7F6Q"
      }
    },
    {
      "cell_type": "code",
      "source": [
        "class MathOperations:\n",
        "    @classmethod\n",
        "    def add_numbers(cls, a, b):\n",
        "        return a + b\n",
        "\n",
        "    @staticmethod\n",
        "    def subtract_numbers(a, b):\n",
        "        return a - b\n",
        "\n",
        "# Example usage\n",
        "sum_result = MathOperations.add_numbers(10, 5)\n",
        "diff_result = MathOperations.subtract_numbers(10, 5)\n",
        "\n",
        "print(f\"Sum: {sum_result}\")\n",
        "print(f\"Difference: {diff_result}\")"
      ],
      "metadata": {
        "colab": {
          "base_uri": "https://localhost:8080/"
        },
        "id": "QlHFZZe-7NcF",
        "outputId": "e65c9c9e-6ba1-4eab-831f-7e73b479975b"
      },
      "execution_count": 19,
      "outputs": [
        {
          "output_type": "stream",
          "name": "stdout",
          "text": [
            "Sum: 15\n",
            "Difference: 5\n"
          ]
        }
      ]
    },
    {
      "cell_type": "markdown",
      "source": [
        "8. Implement a class Person with a class method to count the total number of persons created."
      ],
      "metadata": {
        "id": "EgxjanEn7Xp4"
      }
    },
    {
      "cell_type": "code",
      "source": [
        "class Person:\n",
        "    count = 0  # Class variable to track the number of Person instances\n",
        "\n",
        "    def __init__(self, name):\n",
        "        self.name = name\n",
        "        Person.count += 1  # Increment the count when a new instance is created\n",
        "\n",
        "    @classmethod\n",
        "    def get_total_persons(cls):\n",
        "        return cls.count\n",
        "\n",
        "# Example usage\n",
        "p1 = Person(\"Alice\")\n",
        "p2 = Person(\"Bob\")\n",
        "p3 = Person(\"Charlie\")\n",
        "\n",
        "print(f\"Total persons created: {Person.get_total_persons()}\")\n"
      ],
      "metadata": {
        "colab": {
          "base_uri": "https://localhost:8080/"
        },
        "id": "_ET4u54V7a8d",
        "outputId": "e73041a3-3735-4511-bb88-4cfb27896c9b"
      },
      "execution_count": 20,
      "outputs": [
        {
          "output_type": "stream",
          "name": "stdout",
          "text": [
            "Total persons created: 3\n"
          ]
        }
      ]
    },
    {
      "cell_type": "markdown",
      "source": [
        "9. Write a class Fraction with attributes numerator and denominator. Override the str method to display the\n",
        "fraction as \"numerator/denominator\"."
      ],
      "metadata": {
        "id": "oXiAx4TA7h9c"
      }
    },
    {
      "cell_type": "code",
      "source": [
        "class Fraction:\n",
        "    def __init__(self, numerator, denominator):\n",
        "        self.numerator = numerator\n",
        "        self.denominator = denominator\n",
        "\n",
        "    def __str__(self):\n",
        "        return f\"{self.numerator}/{self.denominator}\"\n",
        "\n",
        "# Example usage\n",
        "f1 = Fraction(3, 4)\n",
        "f2 = Fraction(5, 8)\n",
        "\n",
        "print(f1)\n",
        "print(f2)\n"
      ],
      "metadata": {
        "colab": {
          "base_uri": "https://localhost:8080/"
        },
        "id": "PCJxO1CU7kv8",
        "outputId": "bab41ad0-1b10-4354-94f5-1583c0db5e0e"
      },
      "execution_count": 21,
      "outputs": [
        {
          "output_type": "stream",
          "name": "stdout",
          "text": [
            "3/4\n",
            "5/8\n"
          ]
        }
      ]
    },
    {
      "cell_type": "markdown",
      "source": [
        "10. Demonstrate operator overloading by creating a class Vector and overriding the add method to add two\n",
        "vectors."
      ],
      "metadata": {
        "id": "CYl0prXN7wJ0"
      }
    },
    {
      "cell_type": "code",
      "source": [
        "class Vector:\n",
        "    def __init__(self, x, y):\n",
        "        self.x = x\n",
        "        self.y = y\n",
        "\n",
        "    def __add__(self, other):\n",
        "        if isinstance(other, Vector):\n",
        "            return Vector(self.x + other.x, self.y + other.y)\n",
        "        return NotImplemented\n",
        "\n",
        "    def __str__(self):\n",
        "        return f\"({self.x}, {self.y})\"\n",
        "\n",
        "# Example usage\n",
        "v1 = Vector(2, 3)\n",
        "v2 = Vector(4, 5)\n",
        "v3 = v1 + v2\n",
        "\n",
        "print(f\"v1: {v1}\")\n",
        "print(f\"v2: {v2}\")\n",
        "print(f\"v1 + v2 = {v3}\")\n"
      ],
      "metadata": {
        "colab": {
          "base_uri": "https://localhost:8080/"
        },
        "id": "XXr1ids174pc",
        "outputId": "19207744-52d1-4d19-bb14-58c95099e1e2"
      },
      "execution_count": 22,
      "outputs": [
        {
          "output_type": "stream",
          "name": "stdout",
          "text": [
            "v1: (2, 3)\n",
            "v2: (4, 5)\n",
            "v1 + v2 = (6, 8)\n"
          ]
        }
      ]
    },
    {
      "cell_type": "markdown",
      "source": [
        "11. Create a class Person with attributes name and age. Add a method greet() that prints \"Hello, my name is\n",
        "{name} and I am {age} years old.\""
      ],
      "metadata": {
        "id": "sSdDTD7B7_nF"
      }
    },
    {
      "cell_type": "code",
      "source": [
        "class Person:\n",
        "    def __init__(self, name, age):\n",
        "        self.name = name\n",
        "        self.age = age\n",
        "\n",
        "    def greet(self):\n",
        "        print(f\"Hello, my name is {self.name} and I am {self.age} years old.\")\n",
        "\n",
        "# Example usage\n",
        "person1 = Person(\"Alice\", 30)\n",
        "person2 = Person(\"Bob\", 25)\n",
        "\n",
        "person1.greet()\n",
        "person2.greet()\n"
      ],
      "metadata": {
        "colab": {
          "base_uri": "https://localhost:8080/"
        },
        "id": "l2i7fJkR8DII",
        "outputId": "80a4f2b3-a5c0-47a4-90e5-ea30660511ce"
      },
      "execution_count": 23,
      "outputs": [
        {
          "output_type": "stream",
          "name": "stdout",
          "text": [
            "Hello, my name is Alice and I am 30 years old.\n",
            "Hello, my name is Bob and I am 25 years old.\n"
          ]
        }
      ]
    },
    {
      "cell_type": "markdown",
      "source": [
        "12. Implement a class Student with attributes name and grades. Create a method average_grade() to compute\n",
        "the average of the grades."
      ],
      "metadata": {
        "id": "WdBUGXSw8LtZ"
      }
    },
    {
      "cell_type": "code",
      "source": [
        "class Student:\n",
        "    def __init__(self, name, grades):\n",
        "        self.name = name\n",
        "        self.grades = grades  # List of grades\n",
        "\n",
        "    def average_grade(self):\n",
        "        if len(self.grades) == 0:\n",
        "            return 0  # Return 0 if no grades are available\n",
        "        return sum(self.grades) / len(self.grades)\n",
        "\n",
        "# Example usage\n",
        "student1 = Student(\"Alice\", [85, 90, 78, 92])\n",
        "student2 = Student(\"Bob\", [80, 70, 88])\n",
        "\n",
        "print(f\"{student1.name}'s average grade: {student1.average_grade():.2f}\")\n",
        "print(f\"{student2.name}'s average grade: {student2.average_grade():.2f}\")\n"
      ],
      "metadata": {
        "colab": {
          "base_uri": "https://localhost:8080/"
        },
        "id": "VQ4gGPbD8P8L",
        "outputId": "b299f8a0-fd62-4c53-dd96-985982ec0cfc"
      },
      "execution_count": 24,
      "outputs": [
        {
          "output_type": "stream",
          "name": "stdout",
          "text": [
            "Alice's average grade: 86.25\n",
            "Bob's average grade: 79.33\n"
          ]
        }
      ]
    },
    {
      "cell_type": "markdown",
      "source": [
        "13. Create a class Rectangle with methods set_dimensions() to set the dimensions and area() to calculate the\n",
        "area."
      ],
      "metadata": {
        "id": "CI0dtu_P8hRQ"
      }
    },
    {
      "cell_type": "code",
      "source": [
        "class Rectangle:\n",
        "    def __init__(self):\n",
        "        self.length = 0\n",
        "        self.width = 0\n",
        "\n",
        "    def set_dimensions(self, length, width):\n",
        "        self.length = length\n",
        "        self.width = width\n",
        "\n",
        "    def area(self):\n",
        "        return self.length * self.width\n",
        "\n",
        "# Example usage\n",
        "rect1 = Rectangle()\n",
        "rect1.set_dimensions(5, 3)\n",
        "\n",
        "print(f\"Area of the rectangle: {rect1.area()}\")\n",
        "\n",
        "rect2 = Rectangle()\n",
        "rect2.set_dimensions(7, 4)\n",
        "\n",
        "print(f\"Area of the rectangle: {rect2.area()}\")\n"
      ],
      "metadata": {
        "colab": {
          "base_uri": "https://localhost:8080/"
        },
        "id": "k5i63zSr9E7E",
        "outputId": "97af4d01-1e9c-44c9-8ffa-747f64926d20"
      },
      "execution_count": 25,
      "outputs": [
        {
          "output_type": "stream",
          "name": "stdout",
          "text": [
            "Area of the rectangle: 15\n",
            "Area of the rectangle: 28\n"
          ]
        }
      ]
    },
    {
      "cell_type": "markdown",
      "source": [
        "14. Create a class Employee with a method calculate_salary() that computes the salary based on hours worked\n",
        "and hourly rate. Create a derived class Manager that adds a bonus to the salary."
      ],
      "metadata": {
        "id": "y_6QXxXP9Iyl"
      }
    },
    {
      "cell_type": "code",
      "source": [
        "class Employee:\n",
        "    def __init__(self, name, hours_worked, hourly_rate):\n",
        "        self.name = name\n",
        "        self.hours_worked = hours_worked\n",
        "        self.hourly_rate = hourly_rate\n",
        "\n",
        "    def calculate_salary(self):\n",
        "        return self.hours_worked * self.hourly_rate\n",
        "\n",
        "# Derived class Manager\n",
        "class Manager(Employee):\n",
        "    def __init__(self, name, hours_worked, hourly_rate, bonus):\n",
        "        super().__init__(name, hours_worked, hourly_rate)\n",
        "        self.bonus = bonus\n",
        "\n",
        "    def calculate_salary(self):\n",
        "        base_salary = super().calculate_salary()\n",
        "        return base_salary + self.bonus\n",
        "\n",
        "# Example usage\n",
        "employee = Employee(\"John Doe\", 160, 20)  # 160 hours at $20 per hour\n",
        "manager = Manager(\"Jane Smith\", 160, 25, 500)  # 160 hours at $25 per hour + $500 bonus\n",
        "\n",
        "print(f\"Employee salary: ${employee.calculate_salary()}\")\n",
        "print(f\"Manager salary: ${manager.calculate_salary()}\")\n"
      ],
      "metadata": {
        "colab": {
          "base_uri": "https://localhost:8080/"
        },
        "id": "f_bDErgR9U58",
        "outputId": "0a94861d-4251-40d9-a922-2f2bbaed33c4"
      },
      "execution_count": 26,
      "outputs": [
        {
          "output_type": "stream",
          "name": "stdout",
          "text": [
            "Employee salary: $3200\n",
            "Manager salary: $4500\n"
          ]
        }
      ]
    },
    {
      "cell_type": "markdown",
      "source": [
        "15. Create a class Product with attributes name, price, and quantity. Implement a method total_price() that\n",
        "calculates the total price of the product."
      ],
      "metadata": {
        "id": "-WKERmhg9Z34"
      }
    },
    {
      "cell_type": "code",
      "source": [
        "class Product:\n",
        "    def __init__(self, name, price, quantity):\n",
        "        self.name = name\n",
        "        self.price = price\n",
        "        self.quantity = quantity\n",
        "\n",
        "    def total_price(self):\n",
        "        return self.price * self.quantity\n",
        "\n",
        "# Example usage\n",
        "product1 = Product(\"Laptop\", 1200, 3)\n",
        "product2 = Product(\"Phone\", 800, 5)\n",
        "\n",
        "print(f\"Total price of {product1.name}: ${product1.total_price()}\")\n",
        "print(f\"Total price of {product2.name}: ${product2.total_price()}\")\n"
      ],
      "metadata": {
        "colab": {
          "base_uri": "https://localhost:8080/"
        },
        "id": "3NJ68o_q9r1-",
        "outputId": "c2c927e8-2603-4878-c13b-a0dd1fa9b89b"
      },
      "execution_count": 27,
      "outputs": [
        {
          "output_type": "stream",
          "name": "stdout",
          "text": [
            "Total price of Laptop: $3600\n",
            "Total price of Phone: $4000\n"
          ]
        }
      ]
    },
    {
      "cell_type": "markdown",
      "source": [
        "16. Create a class Animal with an abstract method sound(). Create two derived classes Cow and Sheep that\n",
        "implement the sound() method."
      ],
      "metadata": {
        "id": "2vjg-umj9yxs"
      }
    },
    {
      "cell_type": "code",
      "source": [
        "from abc import ABC, abstractmethod\n",
        "\n",
        "# Abstract Base Class\n",
        "class Animal(ABC):\n",
        "    @abstractmethod\n",
        "    def sound(self):\n",
        "        pass\n",
        "\n",
        "# Derived class Cow\n",
        "class Cow(Animal):\n",
        "    def sound(self):\n",
        "        print(\"Moo\")\n",
        "\n",
        "# Derived class Sheep\n",
        "class Sheep(Animal):\n",
        "    def sound(self):\n",
        "        print(\"Baa\")\n",
        "\n",
        "# Example usage\n",
        "cow = Cow()\n",
        "sheep = Sheep()\n",
        "\n",
        "cow.sound()\n",
        "sheep.sound()\n"
      ],
      "metadata": {
        "colab": {
          "base_uri": "https://localhost:8080/"
        },
        "id": "aOoY4ahu91uM",
        "outputId": "d03473d6-8b10-4d1f-e550-67c9d271418c"
      },
      "execution_count": 28,
      "outputs": [
        {
          "output_type": "stream",
          "name": "stdout",
          "text": [
            "Moo\n",
            "Baa\n"
          ]
        }
      ]
    },
    {
      "cell_type": "markdown",
      "source": [
        "17. Create a class Book with attributes title, author, and year_published. Add a method get_book_info() that\n",
        "returns a formatted string with the book's details."
      ],
      "metadata": {
        "id": "_JpRG3Lf-AFc"
      }
    },
    {
      "cell_type": "code",
      "source": [
        "class Book:\n",
        "    def __init__(self, title, author, year_published):\n",
        "        self.title = title\n",
        "        self.author = author\n",
        "        self.year_published = year_published\n",
        "\n",
        "    def get_book_info(self):\n",
        "        return f\"Title: {self.title}\\nAuthor: {self.author}\\nYear Published: {self.year_published}\"\n",
        "\n",
        "# Example usage\n",
        "book1 = Book(\"1984\", \"George Orwell\", 1949)\n",
        "book2 = Book(\"To Kill a Mockingbird\", \"Harper Lee\", 1960)\n",
        "\n",
        "print(book1.get_book_info())\n",
        "\n",
        "\n",
        "print(book2.get_book_info())\n",
        "\n"
      ],
      "metadata": {
        "colab": {
          "base_uri": "https://localhost:8080/"
        },
        "id": "amhrS2HI-DYc",
        "outputId": "949bc070-725f-4022-c88c-4d3b32805e27"
      },
      "execution_count": 30,
      "outputs": [
        {
          "output_type": "stream",
          "name": "stdout",
          "text": [
            "Title: 1984\n",
            "Author: George Orwell\n",
            "Year Published: 1949\n",
            "Title: To Kill a Mockingbird\n",
            "Author: Harper Lee\n",
            "Year Published: 1960\n"
          ]
        }
      ]
    },
    {
      "cell_type": "markdown",
      "source": [
        "18. Create a class House with attributes address and price. Create a derived class Mansion that adds an\n",
        "attribute number_of_rooms."
      ],
      "metadata": {
        "id": "7gFcRDw5-a_v"
      }
    },
    {
      "cell_type": "code",
      "source": [
        "# Base class House\n",
        "class House:\n",
        "    def __init__(self, address, price):\n",
        "        self.address = address\n",
        "        self.price = price\n",
        "\n",
        "    def get_house_info(self):\n",
        "        return f\"Address: {self.address}\\nPrice: {self.price}\"\n",
        "\n",
        "# Derived class Mansion\n",
        "class Mansion(House):\n",
        "    def __init__(self, address, price, number_of_rooms):\n",
        "        super().__init__(address, price)\n",
        "        self.number_of_rooms = number_of_rooms\n",
        "\n",
        "    def get_mansion_info(self):\n",
        "        house_info = super().get_house_info()\n",
        "        return f\"{house_info}\\nNumber of Rooms: {self.number_of_rooms}\"\n",
        "\n",
        "# Example usage\n",
        "house = House(\"123 Elm Street\", 250000)\n",
        "mansion = Mansion(\"456 Luxury Ave\", 5000000, 10)\n",
        "\n",
        "print(house.get_house_info())\n",
        "\n",
        "\n",
        "print(mansion.get_mansion_info())\n",
        "\n"
      ],
      "metadata": {
        "colab": {
          "base_uri": "https://localhost:8080/"
        },
        "id": "Vp2oaEd4-e_Z",
        "outputId": "537ce445-c30d-4373-9ea9-1a01fe98cd5a"
      },
      "execution_count": 32,
      "outputs": [
        {
          "output_type": "stream",
          "name": "stdout",
          "text": [
            "Address: 123 Elm Street\n",
            "Price: 250000\n",
            "Address: 456 Luxury Ave\n",
            "Price: 5000000\n",
            "Number of Rooms: 10\n"
          ]
        }
      ]
    }
  ]
}